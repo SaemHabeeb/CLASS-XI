{
 "cells": [
  {
   "cell_type": "markdown",
   "metadata": {},
   "source": [
    "# Q. 1 \n",
    "> Find Sum, Difference, Product, Integral Quotient and Remainder of 2 Natural Numbers\n"
   ]
  },
  {
   "cell_type": "code",
   "execution_count": 1,
   "metadata": {},
   "outputs": [
    {
     "name": "stdout",
     "output_type": "stream",
     "text": [
      "Enter the value of A: 12\n",
      "Enter the value of B: 8\n",
      "Sum =  20\n",
      "Difference =  4\n",
      "Product =  96\n",
      "Integral Quotient =  1\n",
      "Remainder =  4\n"
     ]
    }
   ],
   "source": [
    "A = int(input(\"Enter the value of A: \"))\n",
    "B= int(input(\"Enter the value of B: \"))\n",
    "\n",
    "SUM = A + B\n",
    "DIFF = A - B\n",
    "PROD = A * B\n",
    "INTQ = int(A/B)\n",
    "REM = A % B\n",
    "\n",
    "print('Sum = ', SUM)\n",
    "print('Difference = ', DIFF)\n",
    "print('Product = ', PROD)\n",
    "print('Integral Quotient = ', INTQ)\n",
    "print('Remainder = ', REM)"
   ]
  },
  {
   "cell_type": "markdown",
   "metadata": {},
   "source": [
    "# Q. 2 \n",
    "> CONVERT TEMPERATURE FROM ℃ TO ℉"
   ]
  },
  {
   "cell_type": "code",
   "execution_count": 10,
   "metadata": {},
   "outputs": [
    {
     "name": "stdout",
     "output_type": "stream",
     "text": [
      "Enter the temperature in ℃: 37\n",
      "Temperature in ℉ is:  98.6\n"
     ]
    }
   ],
   "source": [
    "C = float(input(\"Enter the temperature in ℃: \"))\n",
    "F = C*9/5 + 32\n",
    "print('Temperature in ℉ is: ', F)"
   ]
  },
  {
   "cell_type": "code",
   "execution_count": null,
   "metadata": {},
   "outputs": [],
   "source": []
  }
 ],
 "metadata": {
  "kernelspec": {
   "display_name": "Python 3",
   "language": "python",
   "name": "python3"
  },
  "language_info": {
   "codemirror_mode": {
    "name": "ipython",
    "version": 3
   },
   "file_extension": ".py",
   "mimetype": "text/x-python",
   "name": "python",
   "nbconvert_exporter": "python",
   "pygments_lexer": "ipython3",
   "version": "3.7.6"
  }
 },
 "nbformat": 4,
 "nbformat_minor": 4
}
